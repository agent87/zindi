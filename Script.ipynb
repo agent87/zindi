{
 "cells": [
  {
   "cell_type": "code",
   "execution_count": 1,
   "id": "edcdb006",
   "metadata": {},
   "outputs": [],
   "source": [
    "import pandas as pd\n",
    "import json"
   ]
  },
  {
   "cell_type": "markdown",
   "id": "e7e2b317",
   "metadata": {},
   "source": [
    "# Download & Curate all Datasets"
   ]
  },
  {
   "cell_type": "code",
   "execution_count": 115,
   "id": "16325e33",
   "metadata": {
    "scrolled": true
   },
   "outputs": [],
   "source": [
    "# Bible Dataset\n",
    "\n",
    "with open('data/bible/bible_eng.json', encoding=\"utf8\") as file_en:\n",
    "    bible_en = json.load(file_en)\n",
    "    \n",
    "\n",
    "with open('data/bible/bible_rw.json', encoding=\"utf8\") as file_rw:\n",
    "    bible_rw = json.load(file_rw)\n",
    "    \n",
    "    \n",
    "def parse_bible(version):\n",
    "    lines = []\n",
    "    index = []\n",
    "    iters = 0\n",
    "    err = []\n",
    "    for test_index, testament in enumerate(version['bible']['testament']):\n",
    "        for book_index , book in enumerate(testament['book']):\n",
    "            for chapt_index, chapter in enumerate(book['chapter']):\n",
    "                try:\n",
    "                    for verse_index, verse in enumerate(chapter['verse']):\n",
    "                        lines.append({'Testament':test_index, 'Book':book_index, 'Chapter':chapt_index, 'Line':verse_index, 'Verse': verse['#text']})\n",
    "                        index.append(iters)\n",
    "                        iters += 1\n",
    "                except TypeError:\n",
    "                    err.append(iters)\n",
    "                    iters += 1\n",
    "    return lines, index, err\n",
    "        \n",
    "en, index_en, e_en = parse_bible(bible_en)\n",
    "rw, index_rw, e_rw = parse_bible(bible_rw)\n",
    "    \n",
    "bible_df_en = pd.DataFrame(en)\n",
    "\n",
    "bible_df_rw = pd.DataFrame(rw)\n",
    "\n",
    "bible_merge = bible_df_en.merge(bible_df_rw, how='inner', left_on=[\"Testament\", \"Book\", \"Chapter\",\"Line\"], right_on=[\"Testament\", \"Book\", \"Chapter\",\"Line\"])\n",
    "\n",
    "bible = pd.DataFrame({'rw':bible_merge.Verse_y,'en':bible_merge.Verse_x})"
   ]
  },
  {
   "cell_type": "code",
   "execution_count": 117,
   "id": "f2d23a59",
   "metadata": {},
   "outputs": [],
   "source": [
    "#Quran Dataset\n",
    "\n",
    "quran_eng = pd.read_csv('data/Quran/quran_eng.csv')\n",
    "quran_rw = pd.read_csv('data/Quran/quran_rw.csv')\n",
    "\n",
    "quran = pd.DataFrame({'rw': quran_rw.translation,'en': quran_eng.translation})"
   ]
  },
  {
   "cell_type": "code",
   "execution_count": 16,
   "id": "bcb582b7",
   "metadata": {},
   "outputs": [],
   "source": [
    "#Digital Umuganda\n",
    "\n",
    "corpus_1 = pd.read_csv('data/umuganda/corpus_1.tsv', encoding = \"ISO-8859-1\", sep='\\t')\n",
    "corpus_2 = pd.read_csv('data/umuganda/corpus_2.tsv', encoding = \"ISO-8859-1\", sep='\\t')\n",
    "\n",
    "corpus = corpus_1.append(corpus_2, ignore_index=True)"
   ]
  },
  {
   "cell_type": "code",
   "execution_count": null,
   "id": "4e32a00d",
   "metadata": {},
   "outputs": [],
   "source": []
  },
  {
   "cell_type": "markdown",
   "id": "d813a8d4",
   "metadata": {},
   "source": [
    "# Merge Datasets"
   ]
  },
  {
   "cell_type": "code",
   "execution_count": 118,
   "id": "685d1db8",
   "metadata": {},
   "outputs": [],
   "source": [
    "dataset = bible.append(quran, ignore_index=True)"
   ]
  },
  {
   "cell_type": "code",
   "execution_count": 119,
   "id": "78b97994",
   "metadata": {},
   "outputs": [
    {
     "data": {
      "text/html": [
       "<div>\n",
       "<style scoped>\n",
       "    .dataframe tbody tr th:only-of-type {\n",
       "        vertical-align: middle;\n",
       "    }\n",
       "\n",
       "    .dataframe tbody tr th {\n",
       "        vertical-align: top;\n",
       "    }\n",
       "\n",
       "    .dataframe thead th {\n",
       "        text-align: right;\n",
       "    }\n",
       "</style>\n",
       "<table border=\"1\" class=\"dataframe\">\n",
       "  <thead>\n",
       "    <tr style=\"text-align: right;\">\n",
       "      <th></th>\n",
       "      <th>rw</th>\n",
       "      <th>en</th>\n",
       "    </tr>\n",
       "  </thead>\n",
       "  <tbody>\n",
       "    <tr>\n",
       "      <th>0</th>\n",
       "      <td>Mbere na mbere Imana yaremye ijuru n'isi.</td>\n",
       "      <td>In the beginning God created the heaven and th...</td>\n",
       "    </tr>\n",
       "    <tr>\n",
       "      <th>1</th>\n",
       "      <td>Isi yari itagira ishusho, yariho ubusa busa, u...</td>\n",
       "      <td>And the earth was without form, and void; and ...</td>\n",
       "    </tr>\n",
       "    <tr>\n",
       "      <th>2</th>\n",
       "      <td>Imana iravuga iti “Habeho umucyo”, umucyo ubaho.</td>\n",
       "      <td>And God said, Let there be light: and there wa...</td>\n",
       "    </tr>\n",
       "    <tr>\n",
       "      <th>3</th>\n",
       "      <td>Imana ibona umucyo ko ari mwiza, Imana itanduk...</td>\n",
       "      <td>And God saw the light, that it was good: and G...</td>\n",
       "    </tr>\n",
       "    <tr>\n",
       "      <th>4</th>\n",
       "      <td>Imana yita umucyo amanywa, umwijima iwita ijor...</td>\n",
       "      <td>And God called the light Day, and the darkness...</td>\n",
       "    </tr>\n",
       "    <tr>\n",
       "      <th>...</th>\n",
       "      <td>...</td>\n",
       "      <td>...</td>\n",
       "    </tr>\n",
       "    <tr>\n",
       "      <th>37104</th>\n",
       "      <td>2. “Umwami w’abantu,”</td>\n",
       "      <td>(2) The Sovereign of mankind,</td>\n",
       "    </tr>\n",
       "    <tr>\n",
       "      <th>37105</th>\n",
       "      <td>3. “Imana y’abantu,”</td>\n",
       "      <td>(3) The God of mankind,</td>\n",
       "    </tr>\n",
       "    <tr>\n",
       "      <th>37106</th>\n",
       "      <td>4. “Ngo andinde ububi bwa (shitani) yoshya guk...</td>\n",
       "      <td>(4) From the evil of the retreating whisperer[...</td>\n",
       "    </tr>\n",
       "    <tr>\n",
       "      <th>37107</th>\n",
       "      <td>5. “Yoshya imitima y’abantu gukora ibibi; ”</td>\n",
       "      <td>(5) Who whispers [evil] into the breasts of ma...</td>\n",
       "    </tr>\n",
       "    <tr>\n",
       "      <th>37108</th>\n",
       "      <td>6. “Yaba (shitani) yo mu majini cyangwa mu ban...</td>\n",
       "      <td>(6) From among the jinn and mankind.\"[2017]</td>\n",
       "    </tr>\n",
       "  </tbody>\n",
       "</table>\n",
       "<p>37109 rows × 2 columns</p>\n",
       "</div>"
      ],
      "text/plain": [
       "                                                      rw  \\\n",
       "0              Mbere na mbere Imana yaremye ijuru n'isi.   \n",
       "1      Isi yari itagira ishusho, yariho ubusa busa, u...   \n",
       "2       Imana iravuga iti “Habeho umucyo”, umucyo ubaho.   \n",
       "3      Imana ibona umucyo ko ari mwiza, Imana itanduk...   \n",
       "4      Imana yita umucyo amanywa, umwijima iwita ijor...   \n",
       "...                                                  ...   \n",
       "37104                              2. “Umwami w’abantu,”   \n",
       "37105                               3. “Imana y’abantu,”   \n",
       "37106  4. “Ngo andinde ububi bwa (shitani) yoshya guk...   \n",
       "37107        5. “Yoshya imitima y’abantu gukora ibibi; ”   \n",
       "37108  6. “Yaba (shitani) yo mu majini cyangwa mu ban...   \n",
       "\n",
       "                                                      en  \n",
       "0      In the beginning God created the heaven and th...  \n",
       "1      And the earth was without form, and void; and ...  \n",
       "2      And God said, Let there be light: and there wa...  \n",
       "3      And God saw the light, that it was good: and G...  \n",
       "4      And God called the light Day, and the darkness...  \n",
       "...                                                  ...  \n",
       "37104                      (2) The Sovereign of mankind,  \n",
       "37105                            (3) The God of mankind,  \n",
       "37106  (4) From the evil of the retreating whisperer[...  \n",
       "37107  (5) Who whispers [evil] into the breasts of ma...  \n",
       "37108        (6) From among the jinn and mankind.\"[2017]  \n",
       "\n",
       "[37109 rows x 2 columns]"
      ]
     },
     "execution_count": 119,
     "metadata": {},
     "output_type": "execute_result"
    }
   ],
   "source": [
    "dataset"
   ]
  }
 ],
 "metadata": {
  "kernelspec": {
   "display_name": "Python 3 (ipykernel)",
   "language": "python",
   "name": "python3"
  },
  "language_info": {
   "codemirror_mode": {
    "name": "ipython",
    "version": 3
   },
   "file_extension": ".py",
   "mimetype": "text/x-python",
   "name": "python",
   "nbconvert_exporter": "python",
   "pygments_lexer": "ipython3",
   "version": "3.9.7"
  }
 },
 "nbformat": 4,
 "nbformat_minor": 5
}
